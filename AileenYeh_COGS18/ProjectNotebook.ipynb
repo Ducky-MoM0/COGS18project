{
 "cells": [
  {
   "cell_type": "markdown",
   "id": "728d6632",
   "metadata": {},
   "source": [
    "In this project, user will create a password\n",
    "that they want. Password must be atleast eight characters long.\n",
    "\n",
    "Upon creation of password, this same password will be used to \n",
    "lock a specified file.\n",
    "\n",
    "To access file, user needs to enter the correct password that \n",
    "they created. \n",
    "\n",
    "Although basic, this project can be useful if you wanted to give classified document to another person,\n",
    "but only wanted the recipient to have access to file without giving them one of your own passcodes to unlock file."
   ]
  },
  {
   "cell_type": "markdown",
   "id": "a26faace",
   "metadata": {},
   "source": [
    "## Project Code\n",
    "\n",
    "If it makes sense for your project, you can have code and outputs here in the notebook as well."
   ]
  },
  {
   "cell_type": "code",
   "execution_count": 1,
   "id": "ed044a23",
   "metadata": {},
   "outputs": [],
   "source": [
    "from my_module.functions import access_file"
   ]
  },
  {
   "cell_type": "code",
   "execution_count": 2,
   "id": "d693a8c5",
   "metadata": {},
   "outputs": [
    {
     "name": "stdout",
     "output_type": "stream",
     "text": [
      "Create password:\t 12345678\n",
      "Enter password: \t12345678\n"
     ]
    },
    {
     "data": {
      "text/plain": [
       "True"
      ]
     },
     "execution_count": 2,
     "metadata": {},
     "output_type": "execute_result"
    }
   ],
   "source": [
    "#uncomment line below\n",
    "#access_file()"
   ]
  },
  {
   "cell_type": "code",
   "execution_count": 3,
   "id": "c19e7736",
   "metadata": {},
   "outputs": [
    {
     "name": "stdout",
     "output_type": "stream",
     "text": [
      "============================= test session starts =============================\n",
      "platform win32 -- Python 3.8.8, pytest-6.2.3, py-1.10.0, pluggy-0.13.1\n",
      "rootdir: C:\\Users\\illen\\COGS18_Project\n",
      "plugins: anyio-2.2.0\n",
      "collected 3 items\n",
      "\n",
      "my_module\\test_class.py ...                                              [100%]\n",
      "\n",
      "============================== warnings summary ===============================\n",
      "..\\anaconda3\\lib\\site-packages\\pyreadline\\py3k_compat.py:8\n",
      "  C:\\Users\\illen\\anaconda3\\lib\\site-packages\\pyreadline\\py3k_compat.py:8: DeprecationWarning: Using or importing the ABCs from 'collections' instead of from 'collections.abc' is deprecated since Python 3.3, and in 3.9 it will stop working\n",
      "    return isinstance(x, collections.Callable)\n",
      "\n",
      "-- Docs: https://docs.pytest.org/en/stable/warnings.html\n",
      "======================== 3 passed, 1 warning in 0.53s =========================\n"
     ]
    }
   ],
   "source": [
    "#uncomment line below to run tests\n",
    "#!pytest my_module/test_class.py"
   ]
  },
  {
   "cell_type": "markdown",
   "id": "a8f684a5",
   "metadata": {},
   "source": [
    "#### Extra Credit \n",
    "\n",
    "I didn't have a python background prior to this class. I challenged myself to learn how to write test codes for a class, and also learned how to use webbrowser to open link automatically in a new tab.\n",
    "\n",
    "Given if I where to make this project a full project, I could also encrypt the passcode and the file name.\n"
   ]
  }
 ],
 "metadata": {
  "kernelspec": {
   "display_name": "Python 3",
   "language": "python",
   "name": "python3"
  },
  "language_info": {
   "codemirror_mode": {
    "name": "ipython",
    "version": 3
   },
   "file_extension": ".py",
   "mimetype": "text/x-python",
   "name": "python",
   "nbconvert_exporter": "python",
   "pygments_lexer": "ipython3",
   "version": "3.8.8"
  }
 },
 "nbformat": 4,
 "nbformat_minor": 5
}
